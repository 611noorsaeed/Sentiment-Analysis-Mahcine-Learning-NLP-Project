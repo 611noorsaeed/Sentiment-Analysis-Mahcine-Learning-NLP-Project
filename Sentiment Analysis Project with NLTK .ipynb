{
 "cells": [
  {
   "cell_type": "markdown",
   "id": "d420bc2c",
   "metadata": {},
   "source": [
    "# Sentiment Analysis in Python\n",
    "Sentiment analysis aims to determine a writer’s attitude towards a topic or the overall contextual polarity of a document. The attitude can be his judgment or assessment, his emotional state or the intended emotional communication.\n",
    "\n",
    "In sentiment analysis, the main task is to identify opinion words, which is very important. Opinion words are dominant indicators of feelings, especially adjectives, adverbs, and verbs, for example: “I love this camera. It’s amazing!”\n",
    "\n",
    "Opinion words are also known as polarity words, sentiment words, opinion lexicon, or opinion words, which can generally be divided into two types: positive words, for example, wonderful. , elegant, astonishing; and negative words, eg horrible, disgusting, poor.\n",
    "\n"
   ]
  },
  {
   "cell_type": "markdown",
   "id": "b968dd23",
   "metadata": {},
   "source": [
    "# Read in Data"
   ]
  },
  {
   "cell_type": "code",
   "execution_count": 11,
   "id": "c5e225c1",
   "metadata": {},
   "outputs": [],
   "source": [
    "import pandas as pd\n",
    "import numpy as np\n",
    "import matplotlib.pyplot as plt\n",
    "import seaborn as sns"
   ]
  },
  {
   "cell_type": "code",
   "execution_count": 12,
   "id": "e9b76ae8",
   "metadata": {},
   "outputs": [
    {
     "data": {
      "text/html": [
       "<div>\n",
       "<style scoped>\n",
       "    .dataframe tbody tr th:only-of-type {\n",
       "        vertical-align: middle;\n",
       "    }\n",
       "\n",
       "    .dataframe tbody tr th {\n",
       "        vertical-align: top;\n",
       "    }\n",
       "\n",
       "    .dataframe thead th {\n",
       "        text-align: right;\n",
       "    }\n",
       "</style>\n",
       "<table border=\"1\" class=\"dataframe\">\n",
       "  <thead>\n",
       "    <tr style=\"text-align: right;\">\n",
       "      <th></th>\n",
       "      <th>text</th>\n",
       "      <th>label</th>\n",
       "    </tr>\n",
       "  </thead>\n",
       "  <tbody>\n",
       "    <tr>\n",
       "      <th>0</th>\n",
       "      <td>I grew up (b. 1965) watching and loving the Th...</td>\n",
       "      <td>0</td>\n",
       "    </tr>\n",
       "    <tr>\n",
       "      <th>1</th>\n",
       "      <td>When I put this movie in my DVD player, and sa...</td>\n",
       "      <td>0</td>\n",
       "    </tr>\n",
       "    <tr>\n",
       "      <th>2</th>\n",
       "      <td>Why do people who do not know what a particula...</td>\n",
       "      <td>0</td>\n",
       "    </tr>\n",
       "    <tr>\n",
       "      <th>3</th>\n",
       "      <td>Even though I have great interest in Biblical ...</td>\n",
       "      <td>0</td>\n",
       "    </tr>\n",
       "    <tr>\n",
       "      <th>4</th>\n",
       "      <td>Im a die hard Dads Army fan and nothing will e...</td>\n",
       "      <td>1</td>\n",
       "    </tr>\n",
       "  </tbody>\n",
       "</table>\n",
       "</div>"
      ],
      "text/plain": [
       "                                                text  label\n",
       "0  I grew up (b. 1965) watching and loving the Th...      0\n",
       "1  When I put this movie in my DVD player, and sa...      0\n",
       "2  Why do people who do not know what a particula...      0\n",
       "3  Even though I have great interest in Biblical ...      0\n",
       "4  Im a die hard Dads Army fan and nothing will e...      1"
      ]
     },
     "execution_count": 12,
     "metadata": {},
     "output_type": "execute_result"
    }
   ],
   "source": [
    "data=pd.read_csv(\"Train.csv\")\n",
    "data.head()"
   ]
  },
  {
   "cell_type": "markdown",
   "id": "c53ea9ea",
   "metadata": {},
   "source": [
    "# About Data                         \n",
    "After reading the dataset which contains 40k movie reviews from IMDB, we see that there are two prominent columns. One being TEXT which contains the criticism and the other being LABEL which contains the O’s and 1’s, where 0-NEGATIVE and 1-POSITIVE."
   ]
  },
  {
   "cell_type": "code",
   "execution_count": 13,
   "id": "8e486da4",
   "metadata": {},
   "outputs": [
    {
     "data": {
      "text/plain": [
       "(40000, 2)"
      ]
     },
     "execution_count": 13,
     "metadata": {},
     "output_type": "execute_result"
    }
   ],
   "source": [
    "data.shape"
   ]
  },
  {
   "cell_type": "code",
   "execution_count": 14,
   "id": "eb707e4a",
   "metadata": {},
   "outputs": [],
   "source": [
    "data = data.iloc[:10000,:]"
   ]
  },
  {
   "cell_type": "code",
   "execution_count": 16,
   "id": "da041fea",
   "metadata": {},
   "outputs": [
    {
     "data": {
      "text/plain": [
       "(10000, 2)"
      ]
     },
     "execution_count": 16,
     "metadata": {},
     "output_type": "execute_result"
    }
   ],
   "source": [
    "data.shape"
   ]
  },
  {
   "cell_type": "markdown",
   "id": "c557289d",
   "metadata": {},
   "source": [
    "# Working With Label"
   ]
  },
  {
   "cell_type": "code",
   "execution_count": 17,
   "id": "2b6bb4e1",
   "metadata": {},
   "outputs": [
    {
     "data": {
      "text/plain": [
       "label\n",
       "0    5043\n",
       "1    4957\n",
       "Name: count, dtype: int64"
      ]
     },
     "execution_count": 17,
     "metadata": {},
     "output_type": "execute_result"
    }
   ],
   "source": [
    "data['label'].value_counts()"
   ]
  },
  {
   "cell_type": "code",
   "execution_count": 18,
   "id": "2aa1f262",
   "metadata": {},
   "outputs": [
    {
     "data": {
      "text/plain": [
       "<AxesSubplot:xlabel='label'>"
      ]
     },
     "execution_count": 18,
     "metadata": {},
     "output_type": "execute_result"
    },
    {
     "data": {
      "image/png": "[encoded data removed]",
      "text/plain": [
       "<Figure size 432x288 with 1 Axes>"
      ]
     },
     "metadata": {
      "needs_background": "light"
     },
     "output_type": "display_data"
    }
   ],
   "source": [
    "data['label'].value_counts().plot(kind='bar')"
   ]
  },
  {
   "cell_type": "code",
   "execution_count": 19,
   "id": "689ce878",
   "metadata": {},
   "outputs": [
    {
     "data": {
      "text/plain": [
       "Text(0.5, 1.0, 'label distribution')"
      ]
     },
     "execution_count": 19,
     "metadata": {},
     "output_type": "execute_result"
    },
    {
     "data": {
      "image/png": "[encoded data removed]",
      "text/plain": [
       "<Figure size 720x432 with 1 Axes>"
      ]
     },
     "metadata": {},
     "output_type": "display_data"
    }
   ],
   "source": [
    "plt.figure(figsize=(10,6))\n",
    "colors = ['green', 'orange']\n",
    "data['label'].value_counts().plot(kind='pie', autopct='%.1f%%',shadow = True,colors = colors,startangle = 45,\n",
    "                 explode=(0, 0.1))\n",
    "plt.title('label distribution')"
   ]
  },
  {
   "cell_type": "markdown",
   "id": "3e13048e",
   "metadata": {},
   "source": [
    "# Working With Text"
   ]
  },
  {
   "cell_type": "code",
   "execution_count": 20,
   "id": "0e2b7c6c",
   "metadata": {},
   "outputs": [
    {
     "data": {
      "text/plain": [
       "'...but I regret having seen it. Since the ratings on IMDb are relatively high (and they must also have been relatively high on Netflix), I guess I put it in my queue because it is advertised as a gentle comedy from the UK, a category that has produced many films I liked immensely. \"Saving Grace,\" on the other hand, falls into the category of laugh-less comedies usually populated by Hollywood movies produced and directed by the talentless. Brenda Blethyn is a capable actress, and I have liked her in other movies. The concept -- a gardener growing marijuana to overcome the penury she finds herself confronting after her husband\\'s death -- does not offend me. Notwithstanding the strenuous efforts on the part of the cast to produce humor, the film falls flat on its face (falling flat on its arse might have been funnier) as far as I and my wife were concerned. Be forewarned, oh gentle reader, not all offbeat British comedies succeed. This one is a dud.'"
      ]
     },
     "execution_count": 20,
     "metadata": {},
     "output_type": "execute_result"
    }
   ],
   "source": [
    "data['text'][999]"
   ]
  },
  {
   "cell_type": "markdown",
   "id": "9e6ef836",
   "metadata": {},
   "source": [
    "# Cleaning  steps                                       \n",
    "removing HTML Tags                                        \n",
    "extracting emojies    # The pattern re.compile('(?::|;|=)(?:-)?(?:\\)|\\(|D|P)') is a regular expression                                                   used to match and extract emojis from a given text.                                                \n",
    "removing special chars,puntuation,sumbols                                                 \n",
    "lower casing    \n",
    "removing stopwords                                \n",
    "tokenization"
   ]
  },
  {
   "cell_type": "code",
   "execution_count": 21,
   "id": "e1cc3561",
   "metadata": {},
   "outputs": [],
   "source": [
    "import re\n",
    "import nltk\n",
    "from nltk.stem.porter import PorterStemmer\n",
    "from nltk.corpus import stopwords"
   ]
  },
  {
   "cell_type": "code",
   "execution_count": 23,
   "id": "261da299",
   "metadata": {},
   "outputs": [],
   "source": [
    "stopwords_set = set(stopwords.words('english'))\n",
    "emoji_pattern = re.compile('(?::|;|=)(?:-)?(?:\\)|\\(|D|P)')\n",
    "\n",
    "def preprocessing(text):\n",
    "    text = re.sub('<[^>]*>', '', text)\n",
    "    emojis = emoji_pattern.findall(text)\n",
    "    text = re.sub('[\\W+]', ' ', text.lower()) + ' '.join(emojis).replace('-', '')\n",
    "\n",
    "    prter = PorterStemmer()\n",
    "    text = [prter.stem(word) for word in text.split() if word not in stopwords_set]\n",
    "\n",
    "    return \" \".join(text)\n"
   ]
  },
  {
   "cell_type": "code",
   "execution_count": null,
   "id": "2baebb17",
   "metadata": {},
   "outputs": [],
   "source": []
  },
  {
   "cell_type": "code",
   "execution_count": 24,
   "id": "19e0b9b8",
   "metadata": {},
   "outputs": [
    {
     "data": {
      "text/plain": [
       "'tag helo world :)'"
      ]
     },
     "execution_count": 24,
     "metadata": {},
     "output_type": "execute_result"
    }
   ],
   "source": [
    "preprocessing('this is my tags <h1> :) <p>helo world<p> <div> <div> </h2>')"
   ]
  },
  {
   "cell_type": "code",
   "execution_count": 25,
   "id": "be2d190e",
   "metadata": {},
   "outputs": [],
   "source": [
    "data['text'] = data['text'].apply(lambda x: preprocessing(x))"
   ]
  },
  {
   "cell_type": "code",
   "execution_count": 26,
   "id": "6e0bafed",
   "metadata": {},
   "outputs": [
    {
     "data": {
      "text/plain": [
       "0       grew b 1965 watch love thunderbird mate school...\n",
       "1       put movi dvd player sat coke chip expect hope ...\n",
       "2       peopl know particular time past like feel need...\n",
       "3       even though great interest biblic movi bore de...\n",
       "4       im die hard dad armi fan noth ever chang got t...\n",
       "                              ...                        \n",
       "9995    one cerebr insight movi ever seen script langu...\n",
       "9996    first movi near complet guess someon actual bo...\n",
       "9997    said movi cross dress gangster much averag ind...\n",
       "9998    like adult comedi cartoon like south park near...\n",
       "9999    well start straighthead present bit dilemma fi...\n",
       "Name: text, Length: 10000, dtype: object"
      ]
     },
     "execution_count": 26,
     "metadata": {},
     "output_type": "execute_result"
    }
   ],
   "source": [
    "data['text']"
   ]
  },
  {
   "cell_type": "markdown",
   "id": "415c99a4",
   "metadata": {},
   "source": [
    "# Visualizing Negative and Positive Words"
   ]
  },
  {
   "cell_type": "code",
   "execution_count": 52,
   "id": "57d7c6b2",
   "metadata": {},
   "outputs": [
    {
     "data": {
      "image/png": "[encoded data removed]",
      "text/plain": [
       "<Figure size 864x432 with 2 Axes>"
      ]
     },
     "metadata": {
      "needs_background": "light"
     },
     "output_type": "display_data"
    }
   ],
   "source": [
    "positivedata = data[data['label'] == 1]\n",
    "positivedata = positivedata['text']\n",
    "negdata = data[data['label'] == 0]\n",
    "negdata = negdata['text']\n",
    "\n",
    "import matplotlib.pyplot as plt\n",
    "from collections import Counter\n",
    "\n",
    "# Positive data\n",
    "positivedata_words = ' '.join(positivedata).split()\n",
    "positivedata_word_counts = Counter(positivedata_words)\n",
    "positivedata_common_words = positivedata_word_counts.most_common(10)  # Display top 10 common words\n",
    "\n",
    "# Negative data\n",
    "negdata_words = ' '.join(negdata).split()\n",
    "negdata_word_counts = Counter(negdata_words)\n",
    "negdata_common_words = negdata_word_counts.most_common(10)  # Display top 10 common words\n",
    "\n",
    "# Plotting\n",
    "fig, axes = plt.subplots(1, 2, figsize=(12, 6))\n",
    "\n",
    "# Positive data word frequency\n",
    "axes[0].barh(range(len(positivedata_common_words)), [count for _, count in positivedata_common_words], align='center')\n",
    "axes[0].set_yticks(range(len(positivedata_common_words)))\n",
    "axes[0].set_yticklabels([word for word, _ in positivedata_common_words])\n",
    "axes[0].set_title('Positive Data Word Frequency')\n",
    "\n",
    "# Negative data word frequency\n",
    "axes[1].barh(range(len(negdata_common_words)), [count for _, count in negdata_common_words], align='center')\n",
    "axes[1].set_yticks(range(len(negdata_common_words)))\n",
    "axes[1].set_yticklabels([word for word, _ in negdata_common_words])\n",
    "axes[1].set_title('Negative Data Word Frequency')\n",
    "\n",
    "plt.tight_layout()\n",
    "plt.show()\n"
   ]
  },
  {
   "cell_type": "markdown",
   "id": "8049d32a",
   "metadata": {},
   "source": [
    "# TF-IDF Vertorizer to convert the raw documents into feature matrix "
   ]
  },
  {
   "cell_type": "code",
   "execution_count": 32,
   "id": "57219a8c",
   "metadata": {},
   "outputs": [],
   "source": [
    "from sklearn.feature_extraction.text import TfidfVectorizer\n",
    "\n",
    "tfidf=TfidfVectorizer(strip_accents=None,lowercase=False,preprocessor=None,use_idf=True,norm='l2',smooth_idf=True)\n",
    "y=data.label.values\n",
    "x=tfidf.fit_transform(data.text)"
   ]
  },
  {
   "cell_type": "markdown",
   "id": "73541d8f",
   "metadata": {},
   "source": [
    "# Training Machine Learning Model for Sentiment Analysis\n",
    "Now to train a machine learning model I will split the data into 50 percent training and 50 percent test sets:"
   ]
  },
  {
   "cell_type": "code",
   "execution_count": 33,
   "id": "4bafeeac",
   "metadata": {},
   "outputs": [],
   "source": [
    "from sklearn.model_selection import train_test_split\n",
    "X_train,X_test,y_train,y_test=train_test_split(x,y,random_state=1,test_size=0.5,shuffle=False)"
   ]
  },
  {
   "cell_type": "code",
   "execution_count": 34,
   "id": "b1cec2fd",
   "metadata": {},
   "outputs": [
    {
     "name": "stderr",
     "output_type": "stream",
     "text": [
      "[Parallel(n_jobs=-1)]: Using backend LokyBackend with 4 concurrent workers.\n",
      "[Parallel(n_jobs=-1)]: Done   2 out of   6 | elapsed:   22.6s remaining:   45.3s\n",
      "[Parallel(n_jobs=-1)]: Done   6 out of   6 | elapsed:   32.3s finished\n"
     ]
    }
   ],
   "source": [
    "from sklearn.linear_model import LogisticRegressionCV\n",
    "clf=LogisticRegressionCV(cv=6,scoring='accuracy',random_state=0,n_jobs=-1,verbose=3,max_iter=500).fit(X_train,y_train)\n",
    "y_pred = clf.predict(X_test)"
   ]
  },
  {
   "cell_type": "markdown",
   "id": "85fea773",
   "metadata": {},
   "source": [
    "# Accuracy"
   ]
  },
  {
   "cell_type": "code",
   "execution_count": 35,
   "id": "1e3defda",
   "metadata": {},
   "outputs": [
    {
     "name": "stdout",
     "output_type": "stream",
     "text": [
      "Accuracy: 0.8756\n"
     ]
    }
   ],
   "source": [
    "from sklearn import metrics\n",
    "\n",
    "# Model Accuracy, how often is the classifier correct?\n",
    "print(\"Accuracy:\",metrics.accuracy_score(y_test, y_pred))"
   ]
  },
  {
   "cell_type": "markdown",
   "id": "87c84d13",
   "metadata": {},
   "source": [
    "# Pickle files"
   ]
  },
  {
   "cell_type": "code",
   "execution_count": 37,
   "id": "3536182a",
   "metadata": {},
   "outputs": [],
   "source": [
    "import pickle\n",
    "pickle.dump(clf,open('clf.pkl','wb'))\n",
    "pickle.dump(tfidf,open('tfidf.pkl','wb'))"
   ]
  },
  {
   "cell_type": "markdown",
   "id": "a741c13f",
   "metadata": {},
   "source": [
    "# prediction"
   ]
  },
  {
   "cell_type": "code",
   "execution_count": 46,
   "id": "d9c37e3d",
   "metadata": {},
   "outputs": [],
   "source": [
    "def prediction(comment):\n",
    "    preprocessed_comment = preprocessing(comment)\n",
    "    comment_list = [preprocessed_comment]  # Wrap the preprocessed comment in a list\n",
    "    comment_vector = tfidf.transform(comment_list)\n",
    "    prediction = clf.predict(comment_vector)[0]\n",
    "    return prediction\n",
    "\n",
    "\n",
    "\n",
    "prediction = prediction('one cerebr insight movi ever seen script languag costum sceneri plot charact etc suprem bore watch intens even listen movi work mani time lost count scarlett age grace acquir wisdom beyond year end movi take tara ireland famili origin see result anoth civil war play time irish english movi depict doubl standard men time man still respect girlfriend whore woman mere seen privat place man societi accus improprieti cours scarlett alway think outsid box break rule necessari creat need chang help peopl surviv scarlett beauti definit bone strength self esteem wisdom grow age rememb line confront much plate tomorrow anoth day way carri determin courag learn experi good movi show daughter teach woman import respect men especi handsom one two side may treat woman differ depend act respect attract woman need learn movi teach movi like therapi better gone wind second part take place ireland anyon irish decent cherish sceneri peopl scarlett charact within')"
   ]
  },
  {
   "cell_type": "code",
   "execution_count": 48,
   "id": "ba741d64",
   "metadata": {},
   "outputs": [
    {
     "name": "stdout",
     "output_type": "stream",
     "text": [
      "positive comment\n"
     ]
    }
   ],
   "source": [
    "if prediction == 1:\n",
    "    print(\"positive comment\")\n",
    "else:\n",
    "    print(\"negative comment\")\n",
    "    "
   ]
  },
  {
   "cell_type": "code",
   "execution_count": null,
   "id": "139e1d50",
   "metadata": {},
   "outputs": [],
   "source": []
  },
  {
   "cell_type": "code",
   "execution_count": 45,
   "id": "3a95edc0",
   "metadata": {},
   "outputs": [
    {
     "data": {
      "text/plain": [
       "'one cerebr insight movi ever seen script languag costum sceneri plot charact etc suprem bore watch intens even listen movi work mani time lost count scarlett age grace acquir wisdom beyond year end movi take tara ireland famili origin see result anoth civil war play time irish english movi depict doubl standard men time man still respect girlfriend whore woman mere seen privat place man societi accus improprieti cours scarlett alway think outsid box break rule necessari creat need chang help peopl surviv scarlett beauti definit bone strength self esteem wisdom grow age rememb line confront much plate tomorrow anoth day way carri determin courag learn experi good movi show daughter teach woman import respect men especi handsom one two side may treat woman differ depend act respect attract woman need learn movi teach movi like therapi better gone wind second part take place ireland anyon irish decent cherish sceneri peopl scarlett charact within'"
      ]
     },
     "execution_count": 45,
     "metadata": {},
     "output_type": "execute_result"
    }
   ],
   "source": [
    "data['text'][9995]"
   ]
  },
  {
   "cell_type": "code",
   "execution_count": 49,
   "id": "6e6e1d58",
   "metadata": {},
   "outputs": [
    {
     "data": {
      "text/plain": [
       "'grew b 1965 watch love thunderbird mate school watch play thunderbird school lunch school want virgil scott one want alan count 5 becam art form took children see movi hope would get glimps love child bitterli disappoint high point snappi theme tune could compar origin score thunderbird thank earli saturday morn one televis channel still play rerun seri gerri anderson wife creat jonatha frake hand director chair version complet hopeless wast film utter rubbish cgi remak may accept replac marionett homo sapien subsp sapien huge error judgment'"
      ]
     },
     "execution_count": 49,
     "metadata": {},
     "output_type": "execute_result"
    }
   ],
   "source": [
    "data['text'][0]"
   ]
  },
  {
   "cell_type": "code",
   "execution_count": null,
   "id": "d5a2b2a0",
   "metadata": {},
   "outputs": [],
   "source": []
  }
 ],
 "metadata": {
  "kernelspec": {
   "display_name": "Python 3 (ipykernel)",
   "language": "python",
   "name": "python3"
  },
  "language_info": {
   "codemirror_mode": {
    "name": "ipython",
    "version": 3
   },
   "file_extension": ".py",
   "mimetype": "text/x-python",
   "name": "python",
   "nbconvert_exporter": "python",
   "pygments_lexer": "ipython3",
   "version": "3.9.12"
  }
 },
 "nbformat": 4,
 "nbformat_minor": 5
}
